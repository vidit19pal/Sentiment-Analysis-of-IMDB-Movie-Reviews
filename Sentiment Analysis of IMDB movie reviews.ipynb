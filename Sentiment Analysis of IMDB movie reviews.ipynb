{
 "cells": [
  {
   "cell_type": "markdown",
   "id": "c450f0a5",
   "metadata": {},
   "source": [
    "# Project"
   ]
  },
  {
   "attachments": {},
   "cell_type": "markdown",
   "id": "f8294346",
   "metadata": {},
   "source": [
    "## 1. Title of the Project:\n",
    "Sentiment analysis of IMDB movie reviews"
   ]
  },
  {
   "cell_type": "markdown",
   "id": "e47d4f61",
   "metadata": {},
   "source": [
    "## 2. Brief on the Project:\n",
    "Sentiment analysis, also known as opinion mining, is a natural language processing (NLP) technique that involves analyzing and determining the sentiment or subjective information expressed in a piece of text. It aims to understand the underlying sentiment, emotion, or opinion of the writer or speaker.The goal of sentiment analysis is to classify text into predefined sentiment categories, such as positive, negative, or neutral. It helps in extracting subjective information from text data and provides insights into the overall sentiment or attitude of individuals or groups towards a particular topic, product, service, or event.\n",
    "\n",
    "The IMDB dataset used in this project is having 50K movie reviews for natural language processing or Text analytics.This is a dataset for binary sentiment classification containing positive (1) and negative (2). A dataset of 25,000 highly polar movie reviews for training and 25,000 for testing is provided. Thus the task is to predict the number of positive and negative reviews using either classification or deep learning algorithms."
   ]
  },
  {
   "cell_type": "markdown",
   "id": "37d107af",
   "metadata": {},
   "source": [
    "## 3. Steps for project completion:\n",
    "    a. Collecting and analyzing the data\n",
    "    b. Feature selection and feature engineering\n",
    "    c. EDA & Data Visualization part\n",
    "    d. Model building\n",
    "    e. Checking training and testing accuracy\n",
    "    Algorithms used are TF-IDF, Logistic Regression, Support Vector Classifier, \n",
    "    Naive Bayes, Decision Tree, Random Forest, Adaboost \n",
    "    f. Accuracy score comparison and best model selection\n",
    "    g. Optimizing the model    "
   ]
  },
  {
   "cell_type": "markdown",
   "id": "4d179ac5",
   "metadata": {},
   "source": [
    "## 4. Resources:\n",
    "\n",
    "### Data source: \n",
    "http://ai.stanford.edu/~amaas/data/sentiment/\n",
    "\n",
    "### Tools:\n",
    "Jupyter Notebook used for data analysis and model building.\n",
    "Programming language used is Python."
   ]
  },
  {
   "cell_type": "markdown",
   "id": "a34d1b05",
   "metadata": {},
   "source": [
    "## 5. Individual Details:\n",
    "Name: Vidit Kumar Pal, Email: vidit.20.pal@gmail.com, Contact: +91-7985431988"
   ]
  },
  {
   "cell_type": "code",
   "execution_count": 1,
   "id": "1400de0b",
   "metadata": {},
   "outputs": [],
   "source": [
    "import warnings\n",
    "warnings.filterwarnings('ignore')\n",
    "import pandas as pd\n",
    "import numpy as np\n",
    "import re\n",
    "import matplotlib.pyplot as plt\n",
    "%matplotlib inline\n",
    "import seaborn as sns\n",
    "import plotly.express as px\n",
    "import emoji\n",
    "import string\n",
    "import nltk\n",
    "from PIL import Image\n",
    "from collections import Counter\n",
    "from wordcloud import WordCloud, ImageColorGenerator, STOPWORDS\n",
    "from nltk.tokenize import word_tokenize\n",
    "from nltk.corpus import stopwords\n",
    "from nltk.stem.porter import PorterStemmer\n",
    "from nltk.stem.snowball import SnowballStemmer\n",
    "from nltk.stem import WordNetLemmatizer\n",
    "from sklearn.feature_extraction.text import CountVectorizer\n",
    "from sklearn.feature_extraction.text import TfidfVectorizer\n",
    "from sklearn.model_selection import train_test_split\n",
    "from sklearn.model_selection import cross_val_score\n",
    "from sklearn.metrics import accuracy_score, f1_score, confusion_matrix, classification_report\n",
    "from sklearn.model_selection import GridSearchCV\n",
    "from sklearn.model_selection import RandomizedSearchCV\n",
    "from sklearn.linear_model import LogisticRegression\n",
    "from sklearn.ensemble import RandomForestClassifier\n",
    "from sklearn.ensemble import AdaBoostClassifier\n",
    "from sklearn.svm import SVC,LinearSVC\n",
    "from sklearn.naive_bayes import MultinomialNB\n",
    "from sklearn.tree import DecisionTreeClassifier\n",
    "from sklearn.pipeline import Pipeline\n",
    "import pickle"
   ]
  },
  {
   "cell_type": "code",
   "execution_count": 2,
   "id": "531b933f",
   "metadata": {},
   "outputs": [],
   "source": [
    "data=pd.read_csv('D:\\Data Science\\iit guwahati\\course\\projects made\\Sentiment analysis on IMDB dataset\\IMDB Dataset.csv')"
   ]
  },
  {
   "cell_type": "code",
   "execution_count": 3,
   "id": "e734a0e7",
   "metadata": {},
   "outputs": [
    {
     "data": {
      "text/html": [
       "<div>\n",
       "<style scoped>\n",
       "    .dataframe tbody tr th:only-of-type {\n",
       "        vertical-align: middle;\n",
       "    }\n",
       "\n",
       "    .dataframe tbody tr th {\n",
       "        vertical-align: top;\n",
       "    }\n",
       "\n",
       "    .dataframe thead th {\n",
       "        text-align: right;\n",
       "    }\n",
       "</style>\n",
       "<table border=\"1\" class=\"dataframe\">\n",
       "  <thead>\n",
       "    <tr style=\"text-align: right;\">\n",
       "      <th></th>\n",
       "      <th>review</th>\n",
       "      <th>sentiment</th>\n",
       "    </tr>\n",
       "  </thead>\n",
       "  <tbody>\n",
       "    <tr>\n",
       "      <th>0</th>\n",
       "      <td>One of the other reviewers has mentioned that ...</td>\n",
       "      <td>positive</td>\n",
       "    </tr>\n",
       "    <tr>\n",
       "      <th>1</th>\n",
       "      <td>A wonderful little production. &lt;br /&gt;&lt;br /&gt;The...</td>\n",
       "      <td>positive</td>\n",
       "    </tr>\n",
       "    <tr>\n",
       "      <th>2</th>\n",
       "      <td>I thought this was a wonderful way to spend ti...</td>\n",
       "      <td>positive</td>\n",
       "    </tr>\n",
       "    <tr>\n",
       "      <th>3</th>\n",
       "      <td>Basically there's a family where a little boy ...</td>\n",
       "      <td>negative</td>\n",
       "    </tr>\n",
       "    <tr>\n",
       "      <th>4</th>\n",
       "      <td>Petter Mattei's \"Love in the Time of Money\" is...</td>\n",
       "      <td>positive</td>\n",
       "    </tr>\n",
       "    <tr>\n",
       "      <th>...</th>\n",
       "      <td>...</td>\n",
       "      <td>...</td>\n",
       "    </tr>\n",
       "    <tr>\n",
       "      <th>49995</th>\n",
       "      <td>I thought this movie did a down right good job...</td>\n",
       "      <td>positive</td>\n",
       "    </tr>\n",
       "    <tr>\n",
       "      <th>49996</th>\n",
       "      <td>Bad plot, bad dialogue, bad acting, idiotic di...</td>\n",
       "      <td>negative</td>\n",
       "    </tr>\n",
       "    <tr>\n",
       "      <th>49997</th>\n",
       "      <td>I am a Catholic taught in parochial elementary...</td>\n",
       "      <td>negative</td>\n",
       "    </tr>\n",
       "    <tr>\n",
       "      <th>49998</th>\n",
       "      <td>I'm going to have to disagree with the previou...</td>\n",
       "      <td>negative</td>\n",
       "    </tr>\n",
       "    <tr>\n",
       "      <th>49999</th>\n",
       "      <td>No one expects the Star Trek movies to be high...</td>\n",
       "      <td>negative</td>\n",
       "    </tr>\n",
       "  </tbody>\n",
       "</table>\n",
       "<p>50000 rows × 2 columns</p>\n",
       "</div>"
      ],
      "text/plain": [
       "                                                  review sentiment\n",
       "0      One of the other reviewers has mentioned that ...  positive\n",
       "1      A wonderful little production. <br /><br />The...  positive\n",
       "2      I thought this was a wonderful way to spend ti...  positive\n",
       "3      Basically there's a family where a little boy ...  negative\n",
       "4      Petter Mattei's \"Love in the Time of Money\" is...  positive\n",
       "...                                                  ...       ...\n",
       "49995  I thought this movie did a down right good job...  positive\n",
       "49996  Bad plot, bad dialogue, bad acting, idiotic di...  negative\n",
       "49997  I am a Catholic taught in parochial elementary...  negative\n",
       "49998  I'm going to have to disagree with the previou...  negative\n",
       "49999  No one expects the Star Trek movies to be high...  negative\n",
       "\n",
       "[50000 rows x 2 columns]"
      ]
     },
     "execution_count": 3,
     "metadata": {},
     "output_type": "execute_result"
    }
   ],
   "source": [
    "data"
   ]
  },
  {
   "cell_type": "code",
   "execution_count": 4,
   "id": "a0bba294",
   "metadata": {},
   "outputs": [
    {
     "name": "stdout",
     "output_type": "stream",
     "text": [
      "<class 'pandas.core.frame.DataFrame'>\n",
      "RangeIndex: 50000 entries, 0 to 49999\n",
      "Data columns (total 2 columns):\n",
      " #   Column     Non-Null Count  Dtype \n",
      "---  ------     --------------  ----- \n",
      " 0   review     50000 non-null  object\n",
      " 1   sentiment  50000 non-null  object\n",
      "dtypes: object(2)\n",
      "memory usage: 781.4+ KB\n"
     ]
    }
   ],
   "source": [
    "data.info()"
   ]
  },
  {
   "cell_type": "code",
   "execution_count": 5,
   "id": "4eac8ea6",
   "metadata": {
    "scrolled": true
   },
   "outputs": [
    {
     "data": {
      "text/plain": [
       "review       0\n",
       "sentiment    0\n",
       "dtype: int64"
      ]
     },
     "execution_count": 5,
     "metadata": {},
     "output_type": "execute_result"
    }
   ],
   "source": [
    "data.isnull().sum()"
   ]
  },
  {
   "cell_type": "code",
   "execution_count": 6,
   "id": "9372fc5c",
   "metadata": {},
   "outputs": [
    {
     "data": {
      "text/plain": [
       "positive    25000\n",
       "negative    25000\n",
       "Name: sentiment, dtype: int64"
      ]
     },
     "execution_count": 6,
     "metadata": {},
     "output_type": "execute_result"
    }
   ],
   "source": [
    "data['sentiment'].value_counts()"
   ]
  },
  {
   "cell_type": "code",
   "execution_count": 7,
   "id": "22a58a81",
   "metadata": {},
   "outputs": [],
   "source": [
    "data['sentiment_encoded']=data['sentiment'].replace({'positive':1,'negative':2})"
   ]
  },
  {
   "cell_type": "code",
   "execution_count": 8,
   "id": "0ec6c918",
   "metadata": {},
   "outputs": [
    {
     "data": {
      "text/html": [
       "<div>\n",
       "<style scoped>\n",
       "    .dataframe tbody tr th:only-of-type {\n",
       "        vertical-align: middle;\n",
       "    }\n",
       "\n",
       "    .dataframe tbody tr th {\n",
       "        vertical-align: top;\n",
       "    }\n",
       "\n",
       "    .dataframe thead th {\n",
       "        text-align: right;\n",
       "    }\n",
       "</style>\n",
       "<table border=\"1\" class=\"dataframe\">\n",
       "  <thead>\n",
       "    <tr style=\"text-align: right;\">\n",
       "      <th></th>\n",
       "      <th>review</th>\n",
       "      <th>sentiment</th>\n",
       "      <th>sentiment_encoded</th>\n",
       "    </tr>\n",
       "  </thead>\n",
       "  <tbody>\n",
       "    <tr>\n",
       "      <th>0</th>\n",
       "      <td>One of the other reviewers has mentioned that ...</td>\n",
       "      <td>positive</td>\n",
       "      <td>1</td>\n",
       "    </tr>\n",
       "    <tr>\n",
       "      <th>1</th>\n",
       "      <td>A wonderful little production. &lt;br /&gt;&lt;br /&gt;The...</td>\n",
       "      <td>positive</td>\n",
       "      <td>1</td>\n",
       "    </tr>\n",
       "    <tr>\n",
       "      <th>2</th>\n",
       "      <td>I thought this was a wonderful way to spend ti...</td>\n",
       "      <td>positive</td>\n",
       "      <td>1</td>\n",
       "    </tr>\n",
       "    <tr>\n",
       "      <th>3</th>\n",
       "      <td>Basically there's a family where a little boy ...</td>\n",
       "      <td>negative</td>\n",
       "      <td>2</td>\n",
       "    </tr>\n",
       "    <tr>\n",
       "      <th>4</th>\n",
       "      <td>Petter Mattei's \"Love in the Time of Money\" is...</td>\n",
       "      <td>positive</td>\n",
       "      <td>1</td>\n",
       "    </tr>\n",
       "  </tbody>\n",
       "</table>\n",
       "</div>"
      ],
      "text/plain": [
       "                                              review sentiment  \\\n",
       "0  One of the other reviewers has mentioned that ...  positive   \n",
       "1  A wonderful little production. <br /><br />The...  positive   \n",
       "2  I thought this was a wonderful way to spend ti...  positive   \n",
       "3  Basically there's a family where a little boy ...  negative   \n",
       "4  Petter Mattei's \"Love in the Time of Money\" is...  positive   \n",
       "\n",
       "   sentiment_encoded  \n",
       "0                  1  \n",
       "1                  1  \n",
       "2                  1  \n",
       "3                  2  \n",
       "4                  1  "
      ]
     },
     "execution_count": 8,
     "metadata": {},
     "output_type": "execute_result"
    }
   ],
   "source": [
    "data.head()"
   ]
  },
  {
   "cell_type": "code",
   "execution_count": 9,
   "id": "29537452",
   "metadata": {},
   "outputs": [],
   "source": [
    "stop_words=set(stopwords.words('english'))"
   ]
  },
  {
   "cell_type": "markdown",
   "id": "926e6936",
   "metadata": {},
   "source": [
    "## Preprocessing of Text"
   ]
  },
  {
   "cell_type": "markdown",
   "id": "7769394d",
   "metadata": {},
   "source": [
    "### Function to Remove Emojis"
   ]
  },
  {
   "cell_type": "code",
   "execution_count": 10,
   "id": "def6bc49",
   "metadata": {},
   "outputs": [],
   "source": [
    "def strip_emoji(text):\n",
    "    return emoji.replace_emoji(text,replace=\"\")"
   ]
  },
  {
   "cell_type": "markdown",
   "id": "514e09ad",
   "metadata": {},
   "source": [
    "### Function to Convert text to lowercase,remove (/r,/n characters), URLs, non-utf characters, Numbers, punctutations, stopwords"
   ]
  },
  {
   "cell_type": "code",
   "execution_count": 11,
   "id": "23ce8200",
   "metadata": {},
   "outputs": [],
   "source": [
    "def strip_all_entities(text):\n",
    "    text = text.replace('\\r', '').replace('\\n', ' ').lower()\n",
    "    text = re.sub(r\"(?:\\@|https?\\://)\\S+\", \"\", text)\n",
    "    text = re.sub(r'[^\\x00-\\x7f]',r'', text)\n",
    "    text = re.sub(r'(.)1+', r'1', text)\n",
    "    text = re.sub('[0-9]+', '', text)\n",
    "    stopchars= string.punctuation\n",
    "    table = str.maketrans('', '', stopchars)\n",
    "    text = text.translate(table)\n",
    "    text = [word for word in text.split() if word not in stop_words]\n",
    "    text = ' '.join(text)\n",
    "    return text"
   ]
  },
  {
   "cell_type": "markdown",
   "id": "66e43a39",
   "metadata": {},
   "source": [
    "### Function to remove contractions"
   ]
  },
  {
   "cell_type": "code",
   "execution_count": 12,
   "id": "a6ccaf14",
   "metadata": {},
   "outputs": [],
   "source": [
    "def decontract(text):\n",
    "    text = re.sub(r\"can\\'t\", \"can not\", text)\n",
    "    text = re.sub(r\"n\\'t\", \" not\", text)\n",
    "    text = re.sub(r\"\\'re\", \" are\", text)\n",
    "    text = re.sub(r\"\\'s\", \" is\", text)\n",
    "    text = re.sub(r\"\\'d\", \" would\", text)\n",
    "    text = re.sub(r\"\\'ll\", \" will\", text)\n",
    "    text = re.sub(r\"\\'t\", \" not\", text)\n",
    "    text = re.sub(r\"\\'ve\", \" have\", text)\n",
    "    text = re.sub(r\"\\'m\", \" am\", text)\n",
    "    return text"
   ]
  },
  {
   "cell_type": "markdown",
   "id": "5e555590",
   "metadata": {},
   "source": [
    "### Function to clean hashtags"
   ]
  },
  {
   "cell_type": "code",
   "execution_count": 13,
   "id": "823493c7",
   "metadata": {},
   "outputs": [],
   "source": [
    "def clean_hashtags(tweet):\n",
    "    new_tweet = \" \".join(word.strip() for word in re.split('#(?!(?:hashtag)\\b)[\\w-]+(?=(?:\\s+#[\\w-]+)*\\s*$)', tweet))\n",
    "    new_tweet2 = \" \".join(word.strip() for word in re.split('#|_', new_tweet))\n",
    "    return new_tweet2"
   ]
  },
  {
   "cell_type": "markdown",
   "id": "7891981c",
   "metadata": {},
   "source": [
    "### Function to filter Special Characters such as $, &"
   ]
  },
  {
   "cell_type": "code",
   "execution_count": 14,
   "id": "f9386bca",
   "metadata": {},
   "outputs": [],
   "source": [
    "def filter_chars(a):\n",
    "    sent = []\n",
    "    for word in a.split(' '):\n",
    "        if ('$' in word) | ('&' in word):\n",
    "            sent.append('')\n",
    "        else:\n",
    "            sent.append(word)\n",
    "    return ' '.join(sent)"
   ]
  },
  {
   "cell_type": "markdown",
   "id": "c493784c",
   "metadata": {},
   "source": [
    "### Function to remove multiple sequence spaces"
   ]
  },
  {
   "cell_type": "code",
   "execution_count": 15,
   "id": "c2f391c5",
   "metadata": {},
   "outputs": [],
   "source": [
    "def remove_mult_spaces(text):\n",
    "    return re.sub(\"\\s\\s+\",\" \",text)"
   ]
  },
  {
   "cell_type": "markdown",
   "id": "666819d7",
   "metadata": {},
   "source": [
    "### Function to apply stemming to words"
   ]
  },
  {
   "cell_type": "code",
   "execution_count": 16,
   "id": "67ddca7e",
   "metadata": {},
   "outputs": [],
   "source": [
    "def stemmer(text):\n",
    "    tokenized = nltk.word_tokenize(text)\n",
    "    ps = PorterStemmer()\n",
    "    return ' '.join([ps.stem(words) for words in tokenized])"
   ]
  },
  {
   "cell_type": "markdown",
   "id": "eab933b6",
   "metadata": {},
   "source": [
    "### Function to apply lemmatization to words"
   ]
  },
  {
   "cell_type": "code",
   "execution_count": 17,
   "id": "55aed562",
   "metadata": {},
   "outputs": [],
   "source": [
    "def lemmatize(text):\n",
    "    tokenized = nltk.word_tokenize(text)\n",
    "    lm = WordNetLemmatizer()\n",
    "    return ' '.join([lm.lemmatize(words) for words in tokenized])"
   ]
  },
  {
   "cell_type": "markdown",
   "id": "ccc52fc3",
   "metadata": {},
   "source": [
    "### Function to Preprocess the text by applying all above functions"
   ]
  },
  {
   "cell_type": "code",
   "execution_count": 18,
   "id": "f8a5fa5b",
   "metadata": {},
   "outputs": [],
   "source": [
    "def preprocess(text):\n",
    "    text = strip_emoji(text)\n",
    "    text = decontract(text)\n",
    "    text = strip_all_entities(text)\n",
    "    text = clean_hashtags(text)\n",
    "    text = filter_chars(text)\n",
    "    text = remove_mult_spaces(text)\n",
    "    text = stemmer(text)\n",
    "    text = lemmatize(text)\n",
    "    return text"
   ]
  },
  {
   "cell_type": "code",
   "execution_count": 19,
   "id": "7fc0378c",
   "metadata": {},
   "outputs": [
    {
     "data": {
      "text/html": [
       "<div>\n",
       "<style scoped>\n",
       "    .dataframe tbody tr th:only-of-type {\n",
       "        vertical-align: middle;\n",
       "    }\n",
       "\n",
       "    .dataframe tbody tr th {\n",
       "        vertical-align: top;\n",
       "    }\n",
       "\n",
       "    .dataframe thead th {\n",
       "        text-align: right;\n",
       "    }\n",
       "</style>\n",
       "<table border=\"1\" class=\"dataframe\">\n",
       "  <thead>\n",
       "    <tr style=\"text-align: right;\">\n",
       "      <th></th>\n",
       "      <th>review</th>\n",
       "      <th>sentiment</th>\n",
       "      <th>sentiment_encoded</th>\n",
       "      <th>cleaned_review</th>\n",
       "    </tr>\n",
       "  </thead>\n",
       "  <tbody>\n",
       "    <tr>\n",
       "      <th>0</th>\n",
       "      <td>One of the other reviewers has mentioned that ...</td>\n",
       "      <td>positive</td>\n",
       "      <td>1</td>\n",
       "      <td>one review mention watch oz episod hook right ...</td>\n",
       "    </tr>\n",
       "    <tr>\n",
       "      <th>1</th>\n",
       "      <td>A wonderful little production. &lt;br /&gt;&lt;br /&gt;The...</td>\n",
       "      <td>positive</td>\n",
       "      <td>1</td>\n",
       "      <td>wonder littl product br br film techniqu unass...</td>\n",
       "    </tr>\n",
       "    <tr>\n",
       "      <th>2</th>\n",
       "      <td>I thought this was a wonderful way to spend ti...</td>\n",
       "      <td>positive</td>\n",
       "      <td>1</td>\n",
       "      <td>thought wonder way spend time hot summer weeke...</td>\n",
       "    </tr>\n",
       "    <tr>\n",
       "      <th>3</th>\n",
       "      <td>Basically there's a family where a little boy ...</td>\n",
       "      <td>negative</td>\n",
       "      <td>2</td>\n",
       "      <td>basic famili littl boy jake think zombi closet...</td>\n",
       "    </tr>\n",
       "    <tr>\n",
       "      <th>4</th>\n",
       "      <td>Petter Mattei's \"Love in the Time of Money\" is...</td>\n",
       "      <td>positive</td>\n",
       "      <td>1</td>\n",
       "      <td>petter mattei love time money visual stun film...</td>\n",
       "    </tr>\n",
       "  </tbody>\n",
       "</table>\n",
       "</div>"
      ],
      "text/plain": [
       "                                              review sentiment  \\\n",
       "0  One of the other reviewers has mentioned that ...  positive   \n",
       "1  A wonderful little production. <br /><br />The...  positive   \n",
       "2  I thought this was a wonderful way to spend ti...  positive   \n",
       "3  Basically there's a family where a little boy ...  negative   \n",
       "4  Petter Mattei's \"Love in the Time of Money\" is...  positive   \n",
       "\n",
       "   sentiment_encoded                                     cleaned_review  \n",
       "0                  1  one review mention watch oz episod hook right ...  \n",
       "1                  1  wonder littl product br br film techniqu unass...  \n",
       "2                  1  thought wonder way spend time hot summer weeke...  \n",
       "3                  2  basic famili littl boy jake think zombi closet...  \n",
       "4                  1  petter mattei love time money visual stun film...  "
      ]
     },
     "execution_count": 19,
     "metadata": {},
     "output_type": "execute_result"
    }
   ],
   "source": [
    "data['cleaned_review']=data['review'].apply(preprocess)\n",
    "data.head()"
   ]
  },
  {
   "cell_type": "markdown",
   "id": "2b26054a",
   "metadata": {},
   "source": [
    "### Cleaned review added"
   ]
  },
  {
   "cell_type": "markdown",
   "id": "eb7b933f",
   "metadata": {},
   "source": [
    "### Dealing with Duplicates"
   ]
  },
  {
   "cell_type": "code",
   "execution_count": 20,
   "id": "74d7381b",
   "metadata": {},
   "outputs": [
    {
     "data": {
      "text/plain": [
       "423"
      ]
     },
     "execution_count": 20,
     "metadata": {},
     "output_type": "execute_result"
    }
   ],
   "source": [
    "data[\"cleaned_review\"].duplicated().sum()"
   ]
  },
  {
   "cell_type": "code",
   "execution_count": 21,
   "id": "02176c29",
   "metadata": {},
   "outputs": [],
   "source": [
    "data.drop_duplicates(\"cleaned_review\", inplace=True)"
   ]
  },
  {
   "cell_type": "markdown",
   "id": "f6f42a7b",
   "metadata": {},
   "source": [
    "### Duplicates removed"
   ]
  },
  {
   "cell_type": "markdown",
   "id": "093d8863",
   "metadata": {},
   "source": [
    "### Tokenization"
   ]
  },
  {
   "cell_type": "code",
   "execution_count": 22,
   "id": "c02313b2",
   "metadata": {},
   "outputs": [
    {
     "data": {
      "text/html": [
       "<div>\n",
       "<style scoped>\n",
       "    .dataframe tbody tr th:only-of-type {\n",
       "        vertical-align: middle;\n",
       "    }\n",
       "\n",
       "    .dataframe tbody tr th {\n",
       "        vertical-align: top;\n",
       "    }\n",
       "\n",
       "    .dataframe thead th {\n",
       "        text-align: right;\n",
       "    }\n",
       "</style>\n",
       "<table border=\"1\" class=\"dataframe\">\n",
       "  <thead>\n",
       "    <tr style=\"text-align: right;\">\n",
       "      <th></th>\n",
       "      <th>review</th>\n",
       "      <th>sentiment</th>\n",
       "      <th>sentiment_encoded</th>\n",
       "      <th>cleaned_review</th>\n",
       "      <th>review_list</th>\n",
       "    </tr>\n",
       "  </thead>\n",
       "  <tbody>\n",
       "    <tr>\n",
       "      <th>0</th>\n",
       "      <td>One of the other reviewers has mentioned that ...</td>\n",
       "      <td>positive</td>\n",
       "      <td>1</td>\n",
       "      <td>one review mention watch oz episod hook right ...</td>\n",
       "      <td>[one, review, mention, watch, oz, episod, hook...</td>\n",
       "    </tr>\n",
       "    <tr>\n",
       "      <th>1</th>\n",
       "      <td>A wonderful little production. &lt;br /&gt;&lt;br /&gt;The...</td>\n",
       "      <td>positive</td>\n",
       "      <td>1</td>\n",
       "      <td>wonder littl product br br film techniqu unass...</td>\n",
       "      <td>[wonder, littl, product, br, br, film, techniq...</td>\n",
       "    </tr>\n",
       "    <tr>\n",
       "      <th>2</th>\n",
       "      <td>I thought this was a wonderful way to spend ti...</td>\n",
       "      <td>positive</td>\n",
       "      <td>1</td>\n",
       "      <td>thought wonder way spend time hot summer weeke...</td>\n",
       "      <td>[thought, wonder, way, spend, time, hot, summe...</td>\n",
       "    </tr>\n",
       "    <tr>\n",
       "      <th>3</th>\n",
       "      <td>Basically there's a family where a little boy ...</td>\n",
       "      <td>negative</td>\n",
       "      <td>2</td>\n",
       "      <td>basic famili littl boy jake think zombi closet...</td>\n",
       "      <td>[basic, famili, littl, boy, jake, think, zombi...</td>\n",
       "    </tr>\n",
       "    <tr>\n",
       "      <th>4</th>\n",
       "      <td>Petter Mattei's \"Love in the Time of Money\" is...</td>\n",
       "      <td>positive</td>\n",
       "      <td>1</td>\n",
       "      <td>petter mattei love time money visual stun film...</td>\n",
       "      <td>[petter, mattei, love, time, money, visual, st...</td>\n",
       "    </tr>\n",
       "  </tbody>\n",
       "</table>\n",
       "</div>"
      ],
      "text/plain": [
       "                                              review sentiment  \\\n",
       "0  One of the other reviewers has mentioned that ...  positive   \n",
       "1  A wonderful little production. <br /><br />The...  positive   \n",
       "2  I thought this was a wonderful way to spend ti...  positive   \n",
       "3  Basically there's a family where a little boy ...  negative   \n",
       "4  Petter Mattei's \"Love in the Time of Money\" is...  positive   \n",
       "\n",
       "   sentiment_encoded                                     cleaned_review  \\\n",
       "0                  1  one review mention watch oz episod hook right ...   \n",
       "1                  1  wonder littl product br br film techniqu unass...   \n",
       "2                  1  thought wonder way spend time hot summer weeke...   \n",
       "3                  2  basic famili littl boy jake think zombi closet...   \n",
       "4                  1  petter mattei love time money visual stun film...   \n",
       "\n",
       "                                         review_list  \n",
       "0  [one, review, mention, watch, oz, episod, hook...  \n",
       "1  [wonder, littl, product, br, br, film, techniq...  \n",
       "2  [thought, wonder, way, spend, time, hot, summe...  \n",
       "3  [basic, famili, littl, boy, jake, think, zombi...  \n",
       "4  [petter, mattei, love, time, money, visual, st...  "
      ]
     },
     "execution_count": 22,
     "metadata": {},
     "output_type": "execute_result"
    }
   ],
   "source": [
    "data['review_list'] = data['cleaned_review'].apply(word_tokenize)\n",
    "data.head()"
   ]
  },
  {
   "cell_type": "markdown",
   "id": "861ad80c",
   "metadata": {},
   "source": [
    "### Checking length of various tweet texts"
   ]
  },
  {
   "cell_type": "code",
   "execution_count": 23,
   "id": "28e8e320",
   "metadata": {},
   "outputs": [],
   "source": [
    "review_len = []\n",
    "for text in data.review_list:\n",
    "    review_length = len(text)\n",
    "    review_len.append(review_length)\n",
    "data['review_len'] = review_len"
   ]
  },
  {
   "cell_type": "code",
   "execution_count": 24,
   "id": "0db2f081",
   "metadata": {},
   "outputs": [
    {
     "data": {
      "image/png": "[encoded data removed]",
      "text/plain": [
       "<Figure size 1080x576 with 1 Axes>"
      ]
     },
     "metadata": {
      "needs_background": "light"
     },
     "output_type": "display_data"
    }
   ],
   "source": [
    "plt.figure(figsize=(15,8))\n",
    "ax = sns.countplot(x='review_len', data=data, palette='mako')\n",
    "plt.title('Count of words in review', fontsize=20)\n",
    "plt.yticks([])\n",
    "ax.bar_label(ax.containers[0])\n",
    "plt.ylabel('count')\n",
    "plt.xlabel('')\n",
    "plt.show()"
   ]
  },
  {
   "cell_type": "markdown",
   "id": "cb9a9c7c",
   "metadata": {},
   "source": [
    "### Removing text without words"
   ]
  },
  {
   "cell_type": "code",
   "execution_count": 25,
   "id": "707f427d",
   "metadata": {},
   "outputs": [],
   "source": [
    "data = data[data['review_len']!=0]"
   ]
  },
  {
   "cell_type": "code",
   "execution_count": 26,
   "id": "1c92fa50",
   "metadata": {},
   "outputs": [
    {
     "data": {
      "text/plain": [
       "(49577, 6)"
      ]
     },
     "execution_count": 26,
     "metadata": {},
     "output_type": "execute_result"
    }
   ],
   "source": [
    "data.shape"
   ]
  },
  {
   "cell_type": "markdown",
   "id": "09d5619b",
   "metadata": {},
   "source": [
    "### Splitting data based on sentiment for Data Exploration"
   ]
  },
  {
   "cell_type": "code",
   "execution_count": 27,
   "id": "a82a96fe",
   "metadata": {},
   "outputs": [],
   "source": [
    "positive = data[data['sentiment']=='positive']\n",
    "negative = data[data['sentiment']=='negative']"
   ]
  },
  {
   "cell_type": "markdown",
   "id": "7ead4a30",
   "metadata": {},
   "source": [
    "### EDA Part"
   ]
  },
  {
   "cell_type": "markdown",
   "id": "e9b18148",
   "metadata": {},
   "source": [
    "### Positive Reviews"
   ]
  },
  {
   "cell_type": "code",
   "execution_count": 28,
   "id": "b49dba5d",
   "metadata": {},
   "outputs": [
    {
     "data": {
      "text/html": [
       "<style type=\"text/css\">\n",
       "#T_b58c3_row0_col1 {\n",
       "  background-color: #00441b;\n",
       "  color: #f1f1f1;\n",
       "}\n",
       "#T_b58c3_row1_col1 {\n",
       "  background-color: #067230;\n",
       "  color: #f1f1f1;\n",
       "}\n",
       "#T_b58c3_row2_col1 {\n",
       "  background-color: #2a924a;\n",
       "  color: #f1f1f1;\n",
       "}\n",
       "#T_b58c3_row3_col1 {\n",
       "  background-color: #a3da9d;\n",
       "  color: #000000;\n",
       "}\n",
       "#T_b58c3_row4_col1 {\n",
       "  background-color: #d2edcc;\n",
       "  color: #000000;\n",
       "}\n",
       "#T_b58c3_row5_col1 {\n",
       "  background-color: #e8f6e3;\n",
       "  color: #000000;\n",
       "}\n",
       "#T_b58c3_row6_col1 {\n",
       "  background-color: #eaf7e6;\n",
       "  color: #000000;\n",
       "}\n",
       "#T_b58c3_row7_col1 {\n",
       "  background-color: #ebf7e7;\n",
       "  color: #000000;\n",
       "}\n",
       "#T_b58c3_row8_col1 {\n",
       "  background-color: #edf8ea;\n",
       "  color: #000000;\n",
       "}\n",
       "#T_b58c3_row9_col1 {\n",
       "  background-color: #eef8ea;\n",
       "  color: #000000;\n",
       "}\n",
       "#T_b58c3_row10_col1 {\n",
       "  background-color: #eff9ec;\n",
       "  color: #000000;\n",
       "}\n",
       "#T_b58c3_row11_col1 {\n",
       "  background-color: #f0f9ec;\n",
       "  color: #000000;\n",
       "}\n",
       "#T_b58c3_row12_col1 {\n",
       "  background-color: #f0f9ed;\n",
       "  color: #000000;\n",
       "}\n",
       "#T_b58c3_row13_col1, #T_b58c3_row14_col1 {\n",
       "  background-color: #f1faee;\n",
       "  color: #000000;\n",
       "}\n",
       "#T_b58c3_row15_col1 {\n",
       "  background-color: #f3faf0;\n",
       "  color: #000000;\n",
       "}\n",
       "#T_b58c3_row16_col1 {\n",
       "  background-color: #f5fbf3;\n",
       "  color: #000000;\n",
       "}\n",
       "#T_b58c3_row17_col1, #T_b58c3_row18_col1, #T_b58c3_row19_col1 {\n",
       "  background-color: #f7fcf5;\n",
       "  color: #000000;\n",
       "}\n",
       "</style>\n",
       "<table id=\"T_b58c3\">\n",
       "  <thead>\n",
       "    <tr>\n",
       "      <th class=\"blank level0\" >&nbsp;</th>\n",
       "      <th id=\"T_b58c3_level0_col0\" class=\"col_heading level0 col0\" >Top Words</th>\n",
       "      <th id=\"T_b58c3_level0_col1\" class=\"col_heading level0 col1\" >Count</th>\n",
       "    </tr>\n",
       "  </thead>\n",
       "  <tbody>\n",
       "    <tr>\n",
       "      <th id=\"T_b58c3_level0_row0\" class=\"row_heading level0 row0\" >0</th>\n",
       "      <td id=\"T_b58c3_row0_col0\" class=\"data row0 col0\" >br</td>\n",
       "      <td id=\"T_b58c3_row0_col1\" class=\"data row0 col1\" >55377</td>\n",
       "    </tr>\n",
       "    <tr>\n",
       "      <th id=\"T_b58c3_level0_row1\" class=\"row_heading level0 row1\" >1</th>\n",
       "      <td id=\"T_b58c3_row1_col0\" class=\"data row1 col0\" >film</td>\n",
       "      <td id=\"T_b58c3_row1_col1\" class=\"data row1 col1\" >48846</td>\n",
       "    </tr>\n",
       "    <tr>\n",
       "      <th id=\"T_b58c3_level0_row2\" class=\"row_heading level0 row2\" >2</th>\n",
       "      <td id=\"T_b58c3_row2_col0\" class=\"data row2 col0\" >movi</td>\n",
       "      <td id=\"T_b58c3_row2_col1\" class=\"data row2 col1\" >42903</td>\n",
       "    </tr>\n",
       "    <tr>\n",
       "      <th id=\"T_b58c3_level0_row3\" class=\"row_heading level0 row3\" >3</th>\n",
       "      <td id=\"T_b58c3_row3_col0\" class=\"data row3 col0\" >one</td>\n",
       "      <td id=\"T_b58c3_row3_col1\" class=\"data row3 col1\" >27203</td>\n",
       "    </tr>\n",
       "    <tr>\n",
       "      <th id=\"T_b58c3_level0_row4\" class=\"row_heading level0 row4\" >4</th>\n",
       "      <td id=\"T_b58c3_row4_col0\" class=\"data row4 col0\" >like</td>\n",
       "      <td id=\"T_b58c3_row4_col1\" class=\"data row4 col1\" >19898</td>\n",
       "    </tr>\n",
       "    <tr>\n",
       "      <th id=\"T_b58c3_level0_row5\" class=\"row_heading level0 row5\" >5</th>\n",
       "      <td id=\"T_b58c3_row5_col0\" class=\"data row5 col0\" >time</td>\n",
       "      <td id=\"T_b58c3_row5_col1\" class=\"data row5 col1\" >15410</td>\n",
       "    </tr>\n",
       "    <tr>\n",
       "      <th id=\"T_b58c3_level0_row6\" class=\"row_heading level0 row6\" >6</th>\n",
       "      <td id=\"T_b58c3_row6_col0\" class=\"data row6 col0\" >see</td>\n",
       "      <td id=\"T_b58c3_row6_col1\" class=\"data row6 col1\" >14691</td>\n",
       "    </tr>\n",
       "    <tr>\n",
       "      <th id=\"T_b58c3_level0_row7\" class=\"row_heading level0 row7\" >7</th>\n",
       "      <td id=\"T_b58c3_row7_col0\" class=\"data row7 col0\" >good</td>\n",
       "      <td id=\"T_b58c3_row7_col1\" class=\"data row7 col1\" >14552</td>\n",
       "    </tr>\n",
       "    <tr>\n",
       "      <th id=\"T_b58c3_level0_row8\" class=\"row_heading level0 row8\" >8</th>\n",
       "      <td id=\"T_b58c3_row8_col0\" class=\"data row8 col0\" >stori</td>\n",
       "      <td id=\"T_b58c3_row8_col1\" class=\"data row8 col1\" >13624</td>\n",
       "    </tr>\n",
       "    <tr>\n",
       "      <th id=\"T_b58c3_level0_row9\" class=\"row_heading level0 row9\" >9</th>\n",
       "      <td id=\"T_b58c3_row9_col0\" class=\"data row9 col0\" >charact</td>\n",
       "      <td id=\"T_b58c3_row9_col1\" class=\"data row9 col1\" >13575</td>\n",
       "    </tr>\n",
       "    <tr>\n",
       "      <th id=\"T_b58c3_level0_row10\" class=\"row_heading level0 row10\" >10</th>\n",
       "      <td id=\"T_b58c3_row10_col0\" class=\"data row10 col0\" >make</td>\n",
       "      <td id=\"T_b58c3_row10_col1\" class=\"data row10 col1\" >13124</td>\n",
       "    </tr>\n",
       "    <tr>\n",
       "      <th id=\"T_b58c3_level0_row11\" class=\"row_heading level0 row11\" >11</th>\n",
       "      <td id=\"T_b58c3_row11_col0\" class=\"data row11 col0\" >would</td>\n",
       "      <td id=\"T_b58c3_row11_col1\" class=\"data row11 col1\" >13024</td>\n",
       "    </tr>\n",
       "    <tr>\n",
       "      <th id=\"T_b58c3_level0_row12\" class=\"row_heading level0 row12\" >12</th>\n",
       "      <td id=\"T_b58c3_row12_col0\" class=\"data row12 col0\" >great</td>\n",
       "      <td id=\"T_b58c3_row12_col1\" class=\"data row12 col1\" >12807</td>\n",
       "    </tr>\n",
       "    <tr>\n",
       "      <th id=\"T_b58c3_level0_row13\" class=\"row_heading level0 row13\" >13</th>\n",
       "      <td id=\"T_b58c3_row13_col0\" class=\"data row13 col0\" >get</td>\n",
       "      <td id=\"T_b58c3_row13_col1\" class=\"data row13 col1\" >12544</td>\n",
       "    </tr>\n",
       "    <tr>\n",
       "      <th id=\"T_b58c3_level0_row14\" class=\"row_heading level0 row14\" >14</th>\n",
       "      <td id=\"T_b58c3_row14_col0\" class=\"data row14 col0\" >watch</td>\n",
       "      <td id=\"T_b58c3_row14_col1\" class=\"data row14 col1\" >12524</td>\n",
       "    </tr>\n",
       "    <tr>\n",
       "      <th id=\"T_b58c3_level0_row15\" class=\"row_heading level0 row15\" >15</th>\n",
       "      <td id=\"T_b58c3_row15_col0\" class=\"data row15 col0\" >love</td>\n",
       "      <td id=\"T_b58c3_row15_col1\" class=\"data row15 col1\" >12045</td>\n",
       "    </tr>\n",
       "    <tr>\n",
       "      <th id=\"T_b58c3_level0_row16\" class=\"row_heading level0 row16\" >16</th>\n",
       "      <td id=\"T_b58c3_row16_col0\" class=\"data row16 col0\" >well</td>\n",
       "      <td id=\"T_b58c3_row16_col1\" class=\"data row16 col1\" >11322</td>\n",
       "    </tr>\n",
       "    <tr>\n",
       "      <th id=\"T_b58c3_level0_row17\" class=\"row_heading level0 row17\" >17</th>\n",
       "      <td id=\"T_b58c3_row17_col0\" class=\"data row17 col0\" >show</td>\n",
       "      <td id=\"T_b58c3_row17_col1\" class=\"data row17 col1\" >10760</td>\n",
       "    </tr>\n",
       "    <tr>\n",
       "      <th id=\"T_b58c3_level0_row18\" class=\"row_heading level0 row18\" >18</th>\n",
       "      <td id=\"T_b58c3_row18_col0\" class=\"data row18 col0\" >also</td>\n",
       "      <td id=\"T_b58c3_row18_col1\" class=\"data row18 col1\" >10670</td>\n",
       "    </tr>\n",
       "    <tr>\n",
       "      <th id=\"T_b58c3_level0_row19\" class=\"row_heading level0 row19\" >19</th>\n",
       "      <td id=\"T_b58c3_row19_col0\" class=\"data row19 col0\" >realli</td>\n",
       "      <td id=\"T_b58c3_row19_col1\" class=\"data row19 col1\" >10654</td>\n",
       "    </tr>\n",
       "  </tbody>\n",
       "</table>\n"
      ],
      "text/plain": [
       "<pandas.io.formats.style.Styler at 0x1e9f07f13a0>"
      ]
     },
     "execution_count": 28,
     "metadata": {},
     "output_type": "execute_result"
    }
   ],
   "source": [
    "pos = Counter([item for sublist in positive['review_list'] for item in sublist])\n",
    "top20_positive = pd.DataFrame(pos.most_common(20))\n",
    "top20_positive.columns = ['Top Words','Count']\n",
    "top20_positive.style.background_gradient(cmap='Greens')"
   ]
  },
  {
   "cell_type": "code",
   "execution_count": 29,
   "id": "a4b2d49e",
   "metadata": {},
   "outputs": [
    {
     "data": {
      "text/plain": [
       "Text(0.5, 1.0, 'Top 20 words in positive reviews')"
      ]
     },
     "execution_count": 29,
     "metadata": {},
     "output_type": "execute_result"
    },
    {
     "data": {
      "image/png": "[encoded data removed]",
      "text/plain": [
       "<Figure size 1080x576 with 1 Axes>"
      ]
     },
     "metadata": {
      "needs_background": "light"
     },
     "output_type": "display_data"
    }
   ],
   "source": [
    "fig = plt.figure(figsize=(15,8))\n",
    "sns.barplot(data=top20_positive, y=\"Count\", x=\"Top Words\")\n",
    "plt.title(\"Top 20 words in positive reviews\")"
   ]
  },
  {
   "cell_type": "markdown",
   "id": "1f144ecc",
   "metadata": {},
   "source": [
    "### Negative Reviews"
   ]
  },
  {
   "cell_type": "code",
   "execution_count": 30,
   "id": "c08d0dbf",
   "metadata": {},
   "outputs": [
    {
     "data": {
      "text/html": [
       "<style type=\"text/css\">\n",
       "#T_a8801_row0_col1 {\n",
       "  background-color: #00441b;\n",
       "  color: #f1f1f1;\n",
       "}\n",
       "#T_a8801_row1_col1 {\n",
       "  background-color: #005723;\n",
       "  color: #f1f1f1;\n",
       "}\n",
       "#T_a8801_row2_col1 {\n",
       "  background-color: #359e53;\n",
       "  color: #f1f1f1;\n",
       "}\n",
       "#T_a8801_row3_col1 {\n",
       "  background-color: #b2e0ac;\n",
       "  color: #000000;\n",
       "}\n",
       "#T_a8801_row4_col1 {\n",
       "  background-color: #bee5b8;\n",
       "  color: #000000;\n",
       "}\n",
       "#T_a8801_row5_col1 {\n",
       "  background-color: #dff3da;\n",
       "  color: #000000;\n",
       "}\n",
       "#T_a8801_row6_col1, #T_a8801_row7_col1, #T_a8801_row8_col1 {\n",
       "  background-color: #e9f7e5;\n",
       "  color: #000000;\n",
       "}\n",
       "#T_a8801_row9_col1 {\n",
       "  background-color: #ebf7e7;\n",
       "  color: #000000;\n",
       "}\n",
       "#T_a8801_row10_col1, #T_a8801_row11_col1, #T_a8801_row12_col1 {\n",
       "  background-color: #ecf8e8;\n",
       "  color: #000000;\n",
       "}\n",
       "#T_a8801_row13_col1 {\n",
       "  background-color: #edf8ea;\n",
       "  color: #000000;\n",
       "}\n",
       "#T_a8801_row14_col1 {\n",
       "  background-color: #f0f9ed;\n",
       "  color: #000000;\n",
       "}\n",
       "#T_a8801_row15_col1 {\n",
       "  background-color: #f2faf0;\n",
       "  color: #000000;\n",
       "}\n",
       "#T_a8801_row16_col1 {\n",
       "  background-color: #f5fbf2;\n",
       "  color: #000000;\n",
       "}\n",
       "#T_a8801_row17_col1 {\n",
       "  background-color: #f5fbf3;\n",
       "  color: #000000;\n",
       "}\n",
       "#T_a8801_row18_col1 {\n",
       "  background-color: #f6fcf4;\n",
       "  color: #000000;\n",
       "}\n",
       "#T_a8801_row19_col1 {\n",
       "  background-color: #f7fcf5;\n",
       "  color: #000000;\n",
       "}\n",
       "</style>\n",
       "<table id=\"T_a8801\">\n",
       "  <thead>\n",
       "    <tr>\n",
       "      <th class=\"blank level0\" >&nbsp;</th>\n",
       "      <th id=\"T_a8801_level0_col0\" class=\"col_heading level0 col0\" >Top Words</th>\n",
       "      <th id=\"T_a8801_level0_col1\" class=\"col_heading level0 col1\" >Count</th>\n",
       "    </tr>\n",
       "  </thead>\n",
       "  <tbody>\n",
       "    <tr>\n",
       "      <th id=\"T_a8801_level0_row0\" class=\"row_heading level0 row0\" >0</th>\n",
       "      <td id=\"T_a8801_row0_col0\" class=\"data row0 col0\" >br</td>\n",
       "      <td id=\"T_a8801_row0_col1\" class=\"data row0 col1\" >58148</td>\n",
       "    </tr>\n",
       "    <tr>\n",
       "      <th id=\"T_a8801_level0_row1\" class=\"row_heading level0 row1\" >1</th>\n",
       "      <td id=\"T_a8801_row1_col0\" class=\"data row1 col0\" >movi</td>\n",
       "      <td id=\"T_a8801_row1_col1\" class=\"data row1 col1\" >55269</td>\n",
       "    </tr>\n",
       "    <tr>\n",
       "      <th id=\"T_a8801_level0_row2\" class=\"row_heading level0 row2\" >2</th>\n",
       "      <td id=\"T_a8801_row2_col0\" class=\"data row2 col0\" >film</td>\n",
       "      <td id=\"T_a8801_row2_col1\" class=\"data row2 col1\" >42592</td>\n",
       "    </tr>\n",
       "    <tr>\n",
       "      <th id=\"T_a8801_level0_row3\" class=\"row_heading level0 row3\" >3</th>\n",
       "      <td id=\"T_a8801_row3_col0\" class=\"data row3 col0\" >one</td>\n",
       "      <td id=\"T_a8801_row3_col1\" class=\"data row3 col1\" >25701</td>\n",
       "    </tr>\n",
       "    <tr>\n",
       "      <th id=\"T_a8801_level0_row4\" class=\"row_heading level0 row4\" >4</th>\n",
       "      <td id=\"T_a8801_row4_col0\" class=\"data row4 col0\" >like</td>\n",
       "      <td id=\"T_a8801_row4_col1\" class=\"data row4 col1\" >23716</td>\n",
       "    </tr>\n",
       "    <tr>\n",
       "      <th id=\"T_a8801_level0_row5\" class=\"row_heading level0 row5\" >5</th>\n",
       "      <td id=\"T_a8801_row5_col0\" class=\"data row5 col0\" >would</td>\n",
       "      <td id=\"T_a8801_row5_col1\" class=\"data row5 col1\" >17662</td>\n",
       "    </tr>\n",
       "    <tr>\n",
       "      <th id=\"T_a8801_level0_row6\" class=\"row_heading level0 row6\" >6</th>\n",
       "      <td id=\"T_a8801_row6_col0\" class=\"data row6 col0\" >make</td>\n",
       "      <td id=\"T_a8801_row6_col1\" class=\"data row6 col1\" >15274</td>\n",
       "    </tr>\n",
       "    <tr>\n",
       "      <th id=\"T_a8801_level0_row7\" class=\"row_heading level0 row7\" >7</th>\n",
       "      <td id=\"T_a8801_row7_col0\" class=\"data row7 col0\" >even</td>\n",
       "      <td id=\"T_a8801_row7_col1\" class=\"data row7 col1\" >15106</td>\n",
       "    </tr>\n",
       "    <tr>\n",
       "      <th id=\"T_a8801_level0_row8\" class=\"row_heading level0 row8\" >8</th>\n",
       "      <td id=\"T_a8801_row8_col0\" class=\"data row8 col0\" >get</td>\n",
       "      <td id=\"T_a8801_row8_col1\" class=\"data row8 col1\" >14984</td>\n",
       "    </tr>\n",
       "    <tr>\n",
       "      <th id=\"T_a8801_level0_row9\" class=\"row_heading level0 row9\" >9</th>\n",
       "      <td id=\"T_a8801_row9_col0\" class=\"data row9 col0\" >watch</td>\n",
       "      <td id=\"T_a8801_row9_col1\" class=\"data row9 col1\" >14491</td>\n",
       "    </tr>\n",
       "    <tr>\n",
       "      <th id=\"T_a8801_level0_row10\" class=\"row_heading level0 row10\" >10</th>\n",
       "      <td id=\"T_a8801_row10_col0\" class=\"data row10 col0\" >good</td>\n",
       "      <td id=\"T_a8801_row10_col1\" class=\"data row10 col1\" >14227</td>\n",
       "    </tr>\n",
       "    <tr>\n",
       "      <th id=\"T_a8801_level0_row11\" class=\"row_heading level0 row11\" >11</th>\n",
       "      <td id=\"T_a8801_row11_col0\" class=\"data row11 col0\" >time</td>\n",
       "      <td id=\"T_a8801_row11_col1\" class=\"data row11 col1\" >14136</td>\n",
       "    </tr>\n",
       "    <tr>\n",
       "      <th id=\"T_a8801_level0_row12\" class=\"row_heading level0 row12\" >12</th>\n",
       "      <td id=\"T_a8801_row12_col0\" class=\"data row12 col0\" >bad</td>\n",
       "      <td id=\"T_a8801_row12_col1\" class=\"data row12 col1\" >14023</td>\n",
       "    </tr>\n",
       "    <tr>\n",
       "      <th id=\"T_a8801_level0_row13\" class=\"row_heading level0 row13\" >13</th>\n",
       "      <td id=\"T_a8801_row13_col0\" class=\"data row13 col0\" >charact</td>\n",
       "      <td id=\"T_a8801_row13_col1\" class=\"data row13 col1\" >13794</td>\n",
       "    </tr>\n",
       "    <tr>\n",
       "      <th id=\"T_a8801_level0_row14\" class=\"row_heading level0 row14\" >14</th>\n",
       "      <td id=\"T_a8801_row14_col0\" class=\"data row14 col0\" >see</td>\n",
       "      <td id=\"T_a8801_row14_col1\" class=\"data row14 col1\" >12753</td>\n",
       "    </tr>\n",
       "    <tr>\n",
       "      <th id=\"T_a8801_level0_row15\" class=\"row_heading level0 row15\" >15</th>\n",
       "      <td id=\"T_a8801_row15_col0\" class=\"data row15 col0\" >realli</td>\n",
       "      <td id=\"T_a8801_row15_col1\" class=\"data row15 col1\" >12115</td>\n",
       "    </tr>\n",
       "    <tr>\n",
       "      <th id=\"T_a8801_level0_row16\" class=\"row_heading level0 row16\" >16</th>\n",
       "      <td id=\"T_a8801_row16_col0\" class=\"data row16 col0\" >look</td>\n",
       "      <td id=\"T_a8801_row16_col1\" class=\"data row16 col1\" >11232</td>\n",
       "    </tr>\n",
       "    <tr>\n",
       "      <th id=\"T_a8801_level0_row17\" class=\"row_heading level0 row17\" >17</th>\n",
       "      <td id=\"T_a8801_row17_col0\" class=\"data row17 col0\" >could</td>\n",
       "      <td id=\"T_a8801_row17_col1\" class=\"data row17 col1\" >11200</td>\n",
       "    </tr>\n",
       "    <tr>\n",
       "      <th id=\"T_a8801_level0_row18\" class=\"row_heading level0 row18\" >18</th>\n",
       "      <td id=\"T_a8801_row18_col0\" class=\"data row18 col0\" >scene</td>\n",
       "      <td id=\"T_a8801_row18_col1\" class=\"data row18 col1\" >10906</td>\n",
       "    </tr>\n",
       "    <tr>\n",
       "      <th id=\"T_a8801_level0_row19\" class=\"row_heading level0 row19\" >19</th>\n",
       "      <td id=\"T_a8801_row19_col0\" class=\"data row19 col0\" >stori</td>\n",
       "      <td id=\"T_a8801_row19_col1\" class=\"data row19 col1\" >10475</td>\n",
       "    </tr>\n",
       "  </tbody>\n",
       "</table>\n"
      ],
      "text/plain": [
       "<pandas.io.formats.style.Styler at 0x1e98f0b3b80>"
      ]
     },
     "execution_count": 30,
     "metadata": {},
     "output_type": "execute_result"
    }
   ],
   "source": [
    "neg = Counter([item for sublist in negative['review_list'] for item in sublist])\n",
    "top20_negative = pd.DataFrame(neg.most_common(20))\n",
    "top20_negative.columns = ['Top Words','Count']\n",
    "top20_negative.style.background_gradient(cmap='Greens')"
   ]
  },
  {
   "cell_type": "code",
   "execution_count": 31,
   "id": "1c7bb122",
   "metadata": {},
   "outputs": [
    {
     "data": {
      "text/plain": [
       "Text(0.5, 1.0, 'Top 20 words in negative reviews')"
      ]
     },
     "execution_count": 31,
     "metadata": {},
     "output_type": "execute_result"
    },
    {
     "data": {
      "image/png": "[encoded data removed]",
      "text/plain": [
       "<Figure size 1080x576 with 1 Axes>"
      ]
     },
     "metadata": {
      "needs_background": "light"
     },
     "output_type": "display_data"
    }
   ],
   "source": [
    "fig = plt.figure(figsize=(15,8))\n",
    "sns.barplot(data=top20_negative, y=\"Count\", x=\"Top Words\")\n",
    "plt.title(\"Top 20 words in negative reviews\")"
   ]
  },
  {
   "cell_type": "code",
   "execution_count": 32,
   "id": "934655da",
   "metadata": {},
   "outputs": [
    {
     "data": {
      "text/html": [
       "<div>\n",
       "<style scoped>\n",
       "    .dataframe tbody tr th:only-of-type {\n",
       "        vertical-align: middle;\n",
       "    }\n",
       "\n",
       "    .dataframe tbody tr th {\n",
       "        vertical-align: top;\n",
       "    }\n",
       "\n",
       "    .dataframe thead th {\n",
       "        text-align: right;\n",
       "    }\n",
       "</style>\n",
       "<table border=\"1\" class=\"dataframe\">\n",
       "  <thead>\n",
       "    <tr style=\"text-align: right;\">\n",
       "      <th></th>\n",
       "      <th>review</th>\n",
       "      <th>sentiment</th>\n",
       "      <th>sentiment_encoded</th>\n",
       "      <th>cleaned_review</th>\n",
       "      <th>review_list</th>\n",
       "      <th>review_len</th>\n",
       "    </tr>\n",
       "  </thead>\n",
       "  <tbody>\n",
       "    <tr>\n",
       "      <th>0</th>\n",
       "      <td>One of the other reviewers has mentioned that ...</td>\n",
       "      <td>positive</td>\n",
       "      <td>1</td>\n",
       "      <td>one review mention watch oz episod hook right ...</td>\n",
       "      <td>[one, review, mention, watch, oz, episod, hook...</td>\n",
       "      <td>166</td>\n",
       "    </tr>\n",
       "    <tr>\n",
       "      <th>1</th>\n",
       "      <td>A wonderful little production. &lt;br /&gt;&lt;br /&gt;The...</td>\n",
       "      <td>positive</td>\n",
       "      <td>1</td>\n",
       "      <td>wonder littl product br br film techniqu unass...</td>\n",
       "      <td>[wonder, littl, product, br, br, film, techniq...</td>\n",
       "      <td>90</td>\n",
       "    </tr>\n",
       "    <tr>\n",
       "      <th>2</th>\n",
       "      <td>I thought this was a wonderful way to spend ti...</td>\n",
       "      <td>positive</td>\n",
       "      <td>1</td>\n",
       "      <td>thought wonder way spend time hot summer weeke...</td>\n",
       "      <td>[thought, wonder, way, spend, time, hot, summe...</td>\n",
       "      <td>86</td>\n",
       "    </tr>\n",
       "    <tr>\n",
       "      <th>3</th>\n",
       "      <td>Basically there's a family where a little boy ...</td>\n",
       "      <td>negative</td>\n",
       "      <td>2</td>\n",
       "      <td>basic famili littl boy jake think zombi closet...</td>\n",
       "      <td>[basic, famili, littl, boy, jake, think, zombi...</td>\n",
       "      <td>67</td>\n",
       "    </tr>\n",
       "    <tr>\n",
       "      <th>4</th>\n",
       "      <td>Petter Mattei's \"Love in the Time of Money\" is...</td>\n",
       "      <td>positive</td>\n",
       "      <td>1</td>\n",
       "      <td>petter mattei love time money visual stun film...</td>\n",
       "      <td>[petter, mattei, love, time, money, visual, st...</td>\n",
       "      <td>130</td>\n",
       "    </tr>\n",
       "  </tbody>\n",
       "</table>\n",
       "</div>"
      ],
      "text/plain": [
       "                                              review sentiment  \\\n",
       "0  One of the other reviewers has mentioned that ...  positive   \n",
       "1  A wonderful little production. <br /><br />The...  positive   \n",
       "2  I thought this was a wonderful way to spend ti...  positive   \n",
       "3  Basically there's a family where a little boy ...  negative   \n",
       "4  Petter Mattei's \"Love in the Time of Money\" is...  positive   \n",
       "\n",
       "   sentiment_encoded                                     cleaned_review  \\\n",
       "0                  1  one review mention watch oz episod hook right ...   \n",
       "1                  1  wonder littl product br br film techniqu unass...   \n",
       "2                  1  thought wonder way spend time hot summer weeke...   \n",
       "3                  2  basic famili littl boy jake think zombi closet...   \n",
       "4                  1  petter mattei love time money visual stun film...   \n",
       "\n",
       "                                         review_list  review_len  \n",
       "0  [one, review, mention, watch, oz, episod, hook...         166  \n",
       "1  [wonder, littl, product, br, br, film, techniq...          90  \n",
       "2  [thought, wonder, way, spend, time, hot, summe...          86  \n",
       "3  [basic, famili, littl, boy, jake, think, zombi...          67  \n",
       "4  [petter, mattei, love, time, money, visual, st...         130  "
      ]
     },
     "execution_count": 32,
     "metadata": {},
     "output_type": "execute_result"
    }
   ],
   "source": [
    "data.head()"
   ]
  },
  {
   "cell_type": "code",
   "execution_count": 33,
   "id": "ce7924f1",
   "metadata": {},
   "outputs": [],
   "source": [
    "X,Y = data['cleaned_review'],data['sentiment_encoded']"
   ]
  },
  {
   "cell_type": "code",
   "execution_count": 34,
   "id": "d368ed7f",
   "metadata": {},
   "outputs": [
    {
     "name": "stdout",
     "output_type": "stream",
     "text": [
      "(34703,) (34703,) (14874,) (14874,)\n"
     ]
    }
   ],
   "source": [
    "X_train, X_test, y_train, y_test = train_test_split(X, Y, test_size = 0.3, stratify =Y, random_state = 42)\n",
    "print(X_train.shape, y_train.shape, X_test.shape, y_test.shape)"
   ]
  },
  {
   "cell_type": "markdown",
   "id": "3dcb519b",
   "metadata": {},
   "source": [
    "### tf-idf Vectorization"
   ]
  },
  {
   "cell_type": "code",
   "execution_count": 35,
   "id": "5ec6262a",
   "metadata": {},
   "outputs": [
    {
     "name": "stdout",
     "output_type": "stream",
     "text": [
      "(34703, 111336)\n",
      "(14874, 111336)\n"
     ]
    }
   ],
   "source": [
    "tf_idf = TfidfVectorizer()\n",
    "X_train_tf = tf_idf.fit_transform(X_train)\n",
    "X_test_tf = tf_idf.transform(X_test)\n",
    "print(X_train_tf.shape)\n",
    "print(X_test_tf.shape)"
   ]
  },
  {
   "cell_type": "markdown",
   "id": "83f6f3b4",
   "metadata": {},
   "source": [
    "### Trying Different ML Models"
   ]
  },
  {
   "cell_type": "markdown",
   "id": "de36fd6e",
   "metadata": {},
   "source": [
    "### Logistic Regression"
   ]
  },
  {
   "cell_type": "code",
   "execution_count": 36,
   "id": "ff176835",
   "metadata": {},
   "outputs": [],
   "source": [
    "lr=LogisticRegression()"
   ]
  },
  {
   "cell_type": "code",
   "execution_count": 37,
   "id": "3970bbce",
   "metadata": {},
   "outputs": [],
   "source": [
    "lr_cv_score=cross_val_score(lr,X_train_tf,y_train,cv=5,scoring='f1_macro',n_jobs=-1)"
   ]
  },
  {
   "cell_type": "code",
   "execution_count": 38,
   "id": "c8df019c",
   "metadata": {},
   "outputs": [
    {
     "data": {
      "text/plain": [
       "0.8873515840616524"
      ]
     },
     "execution_count": 38,
     "metadata": {},
     "output_type": "execute_result"
    }
   ],
   "source": [
    "mean_lr_cv = np.mean(lr_cv_score)\n",
    "mean_lr_cv"
   ]
  },
  {
   "cell_type": "markdown",
   "id": "9a183f68",
   "metadata": {},
   "source": [
    "### Support Vector Classifier"
   ]
  },
  {
   "cell_type": "code",
   "execution_count": 39,
   "id": "7a09757f",
   "metadata": {},
   "outputs": [],
   "source": [
    "lin_svc = LinearSVC()"
   ]
  },
  {
   "cell_type": "code",
   "execution_count": 40,
   "id": "c96960c5",
   "metadata": {},
   "outputs": [
    {
     "data": {
      "text/plain": [
       "0.8878026604632915"
      ]
     },
     "execution_count": 40,
     "metadata": {},
     "output_type": "execute_result"
    }
   ],
   "source": [
    "lin_svc_cv_score = cross_val_score(lin_svc,X_train_tf,y_train,cv=5,scoring='f1_macro',n_jobs=-1)\n",
    "mean_lin_svc_cv = np.mean(lin_svc_cv_score)\n",
    "mean_lin_svc_cv"
   ]
  },
  {
   "cell_type": "markdown",
   "id": "8f307857",
   "metadata": {},
   "source": [
    "### Naive Bayes Classifier"
   ]
  },
  {
   "cell_type": "code",
   "execution_count": 41,
   "id": "e550d50c",
   "metadata": {},
   "outputs": [],
   "source": [
    "multiNB = MultinomialNB()"
   ]
  },
  {
   "cell_type": "code",
   "execution_count": 42,
   "id": "fd9bd269",
   "metadata": {},
   "outputs": [
    {
     "data": {
      "text/plain": [
       "0.8591135449404774"
      ]
     },
     "execution_count": 42,
     "metadata": {},
     "output_type": "execute_result"
    }
   ],
   "source": [
    "multiNB_cv_score = cross_val_score(multiNB,X_train_tf,y_train,cv=5,scoring='f1_macro',n_jobs=-1)\n",
    "mean_multiNB_cv = np.mean(multiNB_cv_score)\n",
    "mean_multiNB_cv"
   ]
  },
  {
   "cell_type": "markdown",
   "id": "dc41c5a0",
   "metadata": {},
   "source": [
    "### Decision Tree Classifier"
   ]
  },
  {
   "cell_type": "code",
   "execution_count": 43,
   "id": "84f47e86",
   "metadata": {},
   "outputs": [],
   "source": [
    "dtree = DecisionTreeClassifier()"
   ]
  },
  {
   "cell_type": "code",
   "execution_count": 44,
   "id": "c2564e3a",
   "metadata": {},
   "outputs": [
    {
     "data": {
      "text/plain": [
       "0.7126976863178092"
      ]
     },
     "execution_count": 44,
     "metadata": {},
     "output_type": "execute_result"
    }
   ],
   "source": [
    "dtree_cv_score = cross_val_score(dtree,X_train_tf,y_train,cv=5,scoring='f1_macro',n_jobs=-1)\n",
    "mean_dtree_cv = np.mean(dtree_cv_score)\n",
    "mean_dtree_cv"
   ]
  },
  {
   "cell_type": "markdown",
   "id": "0b4ab014",
   "metadata": {},
   "source": [
    "### Random Forest Classifier"
   ]
  },
  {
   "cell_type": "code",
   "execution_count": 45,
   "id": "e2ba83f1",
   "metadata": {},
   "outputs": [],
   "source": [
    "rand_forest = RandomForestClassifier()"
   ]
  },
  {
   "cell_type": "code",
   "execution_count": 46,
   "id": "145db21d",
   "metadata": {},
   "outputs": [],
   "source": [
    "rand_forest_cv_score = cross_val_score(rand_forest,X_train_tf,y_train,cv=5,scoring='f1_macro',n_jobs=-1)"
   ]
  },
  {
   "cell_type": "code",
   "execution_count": 47,
   "id": "57d265c4",
   "metadata": {},
   "outputs": [
    {
     "data": {
      "text/plain": [
       "0.8461494672540495"
      ]
     },
     "execution_count": 47,
     "metadata": {},
     "output_type": "execute_result"
    }
   ],
   "source": [
    "mean_rand_forest_cv = np.mean(rand_forest_cv_score)\n",
    "mean_rand_forest_cv"
   ]
  },
  {
   "cell_type": "markdown",
   "id": "9a3ac072",
   "metadata": {},
   "source": [
    "### Adaboost Classifier"
   ]
  },
  {
   "cell_type": "code",
   "execution_count": 48,
   "id": "c4970b35",
   "metadata": {},
   "outputs": [],
   "source": [
    "adab=AdaBoostClassifier()"
   ]
  },
  {
   "cell_type": "code",
   "execution_count": 49,
   "id": "ed9cda56",
   "metadata": {},
   "outputs": [
    {
     "data": {
      "text/plain": [
       "0.8043441627809322"
      ]
     },
     "execution_count": 49,
     "metadata": {},
     "output_type": "execute_result"
    }
   ],
   "source": [
    "adab_cv_score = cross_val_score(adab,X_train_tf,y_train,cv=5,scoring='f1_macro',n_jobs=-1)\n",
    "mean_adab_cv = np.mean(adab_cv_score)\n",
    "mean_adab_cv"
   ]
  },
  {
   "cell_type": "markdown",
   "id": "fb47f4b6",
   "metadata": {},
   "source": [
    "##### By trying different models we can see logistic regression, svm and random forest classifier performed similarly, so among these we will go with svm model as it is more generalised and light."
   ]
  },
  {
   "cell_type": "markdown",
   "id": "757315d8",
   "metadata": {},
   "source": [
    "### Fine tuning SVC"
   ]
  },
  {
   "cell_type": "code",
   "execution_count": 50,
   "id": "2639a575",
   "metadata": {},
   "outputs": [
    {
     "data": {
      "text/plain": [
       "GridSearchCV(cv=5, estimator=LinearSVC(), n_jobs=-1,\n",
       "             param_grid={'C': [0.0001, 0.001, 0.01, 0.1, 1, 10],\n",
       "                         'fit_intercept': [True, False],\n",
       "                         'loss': ['hinge', 'squared_hinge']},\n",
       "             return_train_score=True, scoring='f1_macro')"
      ]
     },
     "execution_count": 50,
     "metadata": {},
     "output_type": "execute_result"
    }
   ],
   "source": [
    "svc1 = LinearSVC()\n",
    "param_grid = {'C':[0.0001,0.001,0.01,0.1,1,10],\n",
    "'loss':['hinge','squared_hinge'],\n",
    "'fit_intercept':[True,False]}\n",
    "grid_search = GridSearchCV(svc1,param_grid,cv=5,scoring='f1_macro',n_jobs=-1,verbose=0,return_train_score=True)\n",
    "grid_search.fit(X_train_tf,y_train)"
   ]
  },
  {
   "cell_type": "code",
   "execution_count": 51,
   "id": "bd540f5d",
   "metadata": {},
   "outputs": [
    {
     "data": {
      "text/plain": [
       "LinearSVC(C=1, fit_intercept=False, loss='hinge')"
      ]
     },
     "execution_count": 51,
     "metadata": {},
     "output_type": "execute_result"
    }
   ],
   "source": [
    "grid_search.best_estimator_"
   ]
  },
  {
   "cell_type": "code",
   "execution_count": 52,
   "id": "3784dad6",
   "metadata": {},
   "outputs": [
    {
     "data": {
      "text/plain": [
       "0.8892938348294368"
      ]
     },
     "execution_count": 52,
     "metadata": {},
     "output_type": "execute_result"
    }
   ],
   "source": [
    "grid_search.best_score_"
   ]
  },
  {
   "cell_type": "markdown",
   "id": "91cedbee",
   "metadata": {},
   "source": [
    "### Model Evluation"
   ]
  },
  {
   "cell_type": "code",
   "execution_count": 53,
   "id": "7c98e4cc",
   "metadata": {},
   "outputs": [],
   "source": [
    "lin_svc.fit(X_train_tf,y_train)\n",
    "y_pred = lin_svc.predict(X_test_tf)"
   ]
  },
  {
   "cell_type": "code",
   "execution_count": 54,
   "id": "b6f0e1a8",
   "metadata": {},
   "outputs": [],
   "source": [
    "def print_confusion_matrix(confusion_matrix, class_names, figsize = (10,7), fontsize=14):\n",
    "    df_cm = pd.DataFrame(confusion_matrix, index=class_names, columns=class_names)\n",
    "    fig = plt.figure(figsize=figsize)\n",
    "    try:\n",
    "        heatmap = sns.heatmap(df_cm, annot=True, fmt=\"d\")\n",
    "    except ValueError:\n",
    "        raise ValueError(\"Confusion matrix values must be integers.\")\n",
    "    heatmap.yaxis.set_ticklabels(heatmap.yaxis.get_ticklabels(), rotation=0, ha='right', fontsize=fontsize)\n",
    "    heatmap.xaxis.set_ticklabels(heatmap.xaxis.get_ticklabels(), rotation=45, ha='right', fontsize=fontsize)\n",
    "    plt.ylabel('Truth')\n",
    "    plt.xlabel('Prediction')"
   ]
  },
  {
   "cell_type": "code",
   "execution_count": 55,
   "id": "9ea489cb",
   "metadata": {},
   "outputs": [],
   "source": [
    "review=['positive','negative']"
   ]
  },
  {
   "cell_type": "code",
   "execution_count": 56,
   "id": "47897a26",
   "metadata": {},
   "outputs": [
    {
     "data": {
      "image/png": "[encoded data removed]",
      "text/plain": [
       "<Figure size 720x504 with 2 Axes>"
      ]
     },
     "metadata": {
      "needs_background": "light"
     },
     "output_type": "display_data"
    }
   ],
   "source": [
    "cm = confusion_matrix(y_test,y_pred)\n",
    "print_confusion_matrix(cm,review)"
   ]
  },
  {
   "cell_type": "code",
   "execution_count": 57,
   "id": "00cf9168",
   "metadata": {
    "scrolled": true
   },
   "outputs": [
    {
     "name": "stdout",
     "output_type": "stream",
     "text": [
      "Classification Report:\n",
      "               precision    recall  f1-score   support\n",
      "\n",
      "    positive       0.88      0.89      0.89      7465\n",
      "    negative       0.89      0.88      0.88      7409\n",
      "\n",
      "    accuracy                           0.89     14874\n",
      "   macro avg       0.89      0.89      0.89     14874\n",
      "weighted avg       0.89      0.89      0.89     14874\n",
      "\n"
     ]
    }
   ],
   "source": [
    "print('Classification Report:\\n',classification_report(y_test, y_pred, target_names=review))"
   ]
  },
  {
   "cell_type": "markdown",
   "id": "e5061ed2",
   "metadata": {},
   "source": [
    "### Saving the model"
   ]
  },
  {
   "cell_type": "code",
   "execution_count": 58,
   "id": "4824cf7e",
   "metadata": {},
   "outputs": [],
   "source": [
    "pickle.dump(tf_idf, open('IMDBvectorizer.pkl', 'wb'))\n",
    "pickle.dump(lin_svc, open('IMDBmodel.pkl', 'wb'))"
   ]
  },
  {
   "cell_type": "markdown",
   "id": "d2a4ca71",
   "metadata": {},
   "source": [
    "## 6. Final Report:\n",
    "### Data Analysis and Treatment:\n",
    "    a. There are 50000 rows and 2 columns\n",
    "    b. There are no missing values\n",
    "    c. There is one target variable: 'Sentiment'\n",
    "    d. It is the case of binary classification with target variable \"Sentiment\" having two labels as positive and negative.\n",
    "    e. The best prforming model is SVC (Support Vector Classifier) with accuracy score of 88.92%. "
   ]
  }
 ],
 "metadata": {
  "kernelspec": {
   "display_name": "Python 3 (ipykernel)",
   "language": "python",
   "name": "python3"
  },
  "language_info": {
   "codemirror_mode": {
    "name": "ipython",
    "version": 3
   },
   "file_extension": ".py",
   "mimetype": "text/x-python",
   "name": "python",
   "nbconvert_exporter": "python",
   "pygments_lexer": "ipython3",
   "version": "3.9.12"
  }
 },
 "nbformat": 4,
 "nbformat_minor": 5
}
